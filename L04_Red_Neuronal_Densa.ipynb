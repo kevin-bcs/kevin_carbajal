{
  "nbformat": 4,
  "nbformat_minor": 0,
  "metadata": {
    "colab": {
      "provenance": [],
      "include_colab_link": true
    },
    "kernelspec": {
      "name": "python3",
      "display_name": "Python 3"
    },
    "language_info": {
      "name": "python"
    }
  },
  "cells": [
    {
      "cell_type": "markdown",
      "metadata": {
        "id": "view-in-github",
        "colab_type": "text"
      },
      "source": [
        "<a href=\"https://colab.research.google.com/github/kevin-bcs/kevin_carbajal/blob/main/L04_Red_Neuronal_Densa.ipynb\" target=\"_parent\"><img src=\"https://colab.research.google.com/assets/colab-badge.svg\" alt=\"Open In Colab\"/></a>"
      ]
    },
    {
      "cell_type": "markdown",
      "source": [
        "# Red Neuronal Densa (Perceptrón Multicapa MLP)\n",
        "## Dr. Carlos Villaseñor"
      ],
      "metadata": {
        "id": "OA2bDa4ZR5qJ"
      }
    },
    {
      "cell_type": "markdown",
      "source": [
        "Paso 1. Correr paqueterias"
      ],
      "metadata": {
        "id": "pXflGAH6SC_C"
      }
    },
    {
      "cell_type": "code",
      "source": [
        "import numpy as np\n",
        "import matplotlib.pyplot as plt\n",
        "import pandas as pd"
      ],
      "metadata": {
        "id": "ckWvgWOJRp_-"
      },
      "execution_count": 27,
      "outputs": []
    },
    {
      "cell_type": "markdown",
      "source": [
        "Paso 2. Corre el siguiente bloque con diferentes funciones de activación"
      ],
      "metadata": {
        "id": "4K2el12ASGFa"
      }
    },
    {
      "cell_type": "code",
      "execution_count": 28,
      "metadata": {
        "id": "Hp-3YtjMROCJ"
      },
      "outputs": [],
      "source": [
        "# Funciones de activación\n",
        "def linear(z, derivative=False):\n",
        "    a = z\n",
        "    if derivative:\n",
        "        da = 1\n",
        "        return a, da\n",
        "    return a\n",
        "\n",
        "\n",
        "def sigmoid(z, derivative=False):\n",
        "    a = 1/(1+np.exp(-z))\n",
        "    if derivative:\n",
        "        da = a * (1 - a)\n",
        "        return a, da\n",
        "    return a\n",
        "\n",
        "\n",
        "def tanh(z, derivative=False):\n",
        "    a = np.tanh(z)\n",
        "    if derivative:\n",
        "        da = (1 - a) * (1 + a)\n",
        "        return a, da\n",
        "    return a\n",
        "\n",
        "\n",
        "def relu(z, derivative=False):\n",
        "    a = z * (z >= 0)\n",
        "    if derivative:\n",
        "        da = np.array(z >= 0, dtype=float)\n",
        "        return a, da\n",
        "    return a"
      ]
    },
    {
      "cell_type": "markdown",
      "source": [
        "Paso 3. Completa la siguiente clase para programar la red densa"
      ],
      "metadata": {
        "id": "SsgqxhDxSoJl"
      }
    },
    {
      "cell_type": "code",
      "source": [
        "class MLP:\n",
        "\n",
        "  def __init__(self, layers_dims,\n",
        "               hidden_activation=relu,\n",
        "               output_activation=sigmoid,\n",
        "               learning_rate=0.1):\n",
        "\n",
        "      # Instance Attributes\n",
        "    self.L = len(layers_dims) - 1\n",
        "    self.w = [None] * (self.L + 1)\n",
        "    self.b = [None] * (self.L + 1)\n",
        "    self.f = [None] * (self.L + 1)\n",
        "    self.layers = layers_dims\n",
        "    self.eta = learning_rate\n",
        "\n",
        "    # Initialize weights\n",
        "    for l in range(1, self.L + 1):\n",
        "      self.w[l] = -1 +2 * np.random.rand(layers_dims[1], layers_dims[l-1])\n",
        "      self.b [l]= -1 +2 * np.random.rand(layers_dims[1],1)\n",
        "      if l == self.L:\n",
        "        self.f[l] = output_activation\n",
        "      else:\n",
        "        self.f[l] = hidden_activation\n",
        "\n",
        "  def predict(self, X):\n",
        "    A = X.copy()\n",
        "    for l in range(1, self.L + 1):\n",
        "      Z = self.w[l] @ A + self.b [l]\n",
        "      A = self.f[l] (Z)\n",
        "    return A\n",
        "\n",
        "  def fit(self, X, Y, epochs=500):\n",
        "\n",
        "    # Number of samples\n",
        "    p = X.shape[1]\n",
        "\n",
        "    #Gradient Descent\n",
        "    for _ in range(epochs):\n",
        "\n",
        "      # Initialize activations and their derivatives\n",
        "      A = [None] * (self.L + 1)\n",
        "      dA = [None] * (self.L + 1)\n",
        "      lg = [None] * (self.L + 1)\n",
        "\n",
        "      # Propagation\n",
        "      A [0] = X.copy ()\n",
        "      for l in range (1, self.L + 1):\n",
        "        Z = self.w [l] @ A [l-1] + self.b[l]\n",
        "        A [l], dA[l] = self.f[l] (Z, derivative=True)\n",
        "\n",
        "\n",
        "      # Backpropagation\n",
        "      for l in range(self.L, 0, -1):\n",
        "        if l == self.L:\n",
        "          lg [l] = (Y - A[l]) * dA[l]\n",
        "        else:\n",
        "          lg[l] = (self.w[l+1].T @ lg[l+1] * dA[1])\n",
        "\n",
        "      # Update parameters\n",
        "      for l in range (1, self.L + 1):\n",
        "        self.w[l] += (self.eta/p) * (lg[l] @ A[l-1].T)\n",
        "        self.b[l] += (self.eta/p) * np.sum(lg[l])\n"
      ],
      "metadata": {
        "id": "ElBvQ2NeRuKF"
      },
      "execution_count": 47,
      "outputs": []
    },
    {
      "cell_type": "markdown",
      "source": [
        "Paso 4. Ejecuta la siguiente linea que te ayudará a dibujar las predicciones de la red"
      ],
      "metadata": {
        "id": "ht6fQXUDTVz8"
      }
    },
    {
      "cell_type": "code",
      "source": [
        "def MLP_binary_classification_2d(X,Y,net):\n",
        "    plt.figure()\n",
        "    for i in range(X.shape[1]):\n",
        "        if Y[0,i]==0:\n",
        "            plt.plot(X[0,i], X[1,i], '.r')\n",
        "        else:\n",
        "            plt.plot(X[0,i], X[1,i], '.b')\n",
        "    xmin, ymin=np.min(X[0,:])-0.5, np.min(X[1,:])-0.5\n",
        "    xmax, ymax=np.max(X[0,:])+0.5, np.max(X[1,:])+0.5\n",
        "    xx, yy = np.meshgrid(np.linspace(xmin,xmax,100),\n",
        "                         np.linspace(ymin,ymax,100))\n",
        "    data = [xx.ravel(), yy.ravel()]\n",
        "    zz = net.predict(data)\n",
        "    zz = zz.reshape(xx.shape)\n",
        "    plt.contourf(xx,yy,zz, alpha=0.8,\n",
        "                 cmap=plt.cm.RdBu)\n",
        "    plt.xlim([xmin,xmax])\n",
        "    plt.ylim([ymin,ymax])\n",
        "    plt.grid()\n",
        "    plt.show()"
      ],
      "metadata": {
        "id": "4xhmh7wOTW2e"
      },
      "execution_count": 55,
      "outputs": []
    },
    {
      "cell_type": "markdown",
      "source": [
        "Paso 5. Crea los datos para de la compuerta XOR"
      ],
      "metadata": {
        "id": "QTreo8qLToWm"
      }
    },
    {
      "cell_type": "code",
      "source": [
        "X = np.array([[0, 0, 1, 1],\n",
        "              [0, 1, 0, 1]])\n",
        "Y = np.array([[0, 1, 1, 0]])"
      ],
      "metadata": {
        "id": "cYgaMiwUT1yj"
      },
      "execution_count": 56,
      "outputs": []
    },
    {
      "cell_type": "markdown",
      "source": [
        "Paso 6. Corre el siguiente código para ver la predicción de la red antes de entrenar"
      ],
      "metadata": {
        "id": "ZhpcLRgZT7EN"
      }
    },
    {
      "cell_type": "code",
      "source": [
        "net = MLP((2,20,1), learning_rate=0.2)\n",
        "print(net.predict(X))\n",
        "MLP_binary_classification_2d(X,Y,net)"
      ],
      "metadata": {
        "id": "DjMwzFvZUAik",
        "outputId": "45e0f478-06ac-458e-8817-b26db799b189",
        "colab": {
          "base_uri": "https://localhost:8080/",
          "height": 1000
        }
      },
      "execution_count": 57,
      "outputs": [
        {
          "output_type": "stream",
          "name": "stdout",
          "text": [
            "[[0.37708618 0.21893559 0.56351828 0.30429145]\n",
            " [0.25548314 0.08101228 0.23909472 0.10394144]\n",
            " [0.11955829 0.05298995 0.09875478 0.03842807]\n",
            " [0.87125995 0.95734691 0.6154837  0.81180343]\n",
            " [0.31006777 0.21802664 0.82423348 0.6746449 ]\n",
            " [0.26622629 0.40508231 0.55958837 0.76532136]\n",
            " [0.65040312 0.71496733 0.61734697 0.63488204]\n",
            " [0.81760013 0.95978552 0.68545203 0.93235585]\n",
            " [0.59479243 0.40047816 0.63146577 0.47387219]\n",
            " [0.47121137 0.51871267 0.39514784 0.31064755]\n",
            " [0.61888342 0.53624253 0.61809495 0.43562759]\n",
            " [0.21957155 0.19419537 0.51653797 0.57399738]\n",
            " [0.09179148 0.04240157 0.0646144  0.02534289]\n",
            " [0.56766203 0.16041331 0.1517601  0.0165033 ]\n",
            " [0.88143238 0.81458001 0.45981181 0.39178072]\n",
            " [0.49297712 0.28099388 0.19304762 0.09536631]\n",
            " [0.37884671 0.20555247 0.76821731 0.58570362]\n",
            " [0.60997038 0.38859441 0.93306003 0.88750896]\n",
            " [0.88761721 0.58564385 0.86415247 0.55356642]\n",
            " [0.39966936 0.12361954 0.2579467  0.045084  ]]\n"
          ]
        },
        {
          "output_type": "error",
          "ename": "ValueError",
          "evalue": "cannot reshape array of size 200000 into shape (100,100)",
          "traceback": [
            "\u001b[0;31m---------------------------------------------------------------------------\u001b[0m",
            "\u001b[0;31mValueError\u001b[0m                                Traceback (most recent call last)",
            "\u001b[0;32m<ipython-input-57-1ee8e8b694c0>\u001b[0m in \u001b[0;36m<cell line: 3>\u001b[0;34m()\u001b[0m\n\u001b[1;32m      1\u001b[0m \u001b[0mnet\u001b[0m \u001b[0;34m=\u001b[0m \u001b[0mMLP\u001b[0m\u001b[0;34m(\u001b[0m\u001b[0;34m(\u001b[0m\u001b[0;36m2\u001b[0m\u001b[0;34m,\u001b[0m\u001b[0;36m20\u001b[0m\u001b[0;34m,\u001b[0m\u001b[0;36m1\u001b[0m\u001b[0;34m)\u001b[0m\u001b[0;34m,\u001b[0m \u001b[0mlearning_rate\u001b[0m\u001b[0;34m=\u001b[0m\u001b[0;36m0.2\u001b[0m\u001b[0;34m)\u001b[0m\u001b[0;34m\u001b[0m\u001b[0;34m\u001b[0m\u001b[0m\n\u001b[1;32m      2\u001b[0m \u001b[0mprint\u001b[0m\u001b[0;34m(\u001b[0m\u001b[0mnet\u001b[0m\u001b[0;34m.\u001b[0m\u001b[0mpredict\u001b[0m\u001b[0;34m(\u001b[0m\u001b[0mX\u001b[0m\u001b[0;34m)\u001b[0m\u001b[0;34m)\u001b[0m\u001b[0;34m\u001b[0m\u001b[0;34m\u001b[0m\u001b[0m\n\u001b[0;32m----> 3\u001b[0;31m \u001b[0mMLP_binary_classification_2d\u001b[0m\u001b[0;34m(\u001b[0m\u001b[0mX\u001b[0m\u001b[0;34m,\u001b[0m\u001b[0mY\u001b[0m\u001b[0;34m,\u001b[0m\u001b[0mnet\u001b[0m\u001b[0;34m)\u001b[0m\u001b[0;34m\u001b[0m\u001b[0;34m\u001b[0m\u001b[0m\n\u001b[0m",
            "\u001b[0;32m<ipython-input-55-1a0d741e4005>\u001b[0m in \u001b[0;36mMLP_binary_classification_2d\u001b[0;34m(X, Y, net)\u001b[0m\n\u001b[1;32m     12\u001b[0m     \u001b[0mdata\u001b[0m \u001b[0;34m=\u001b[0m \u001b[0;34m[\u001b[0m\u001b[0mxx\u001b[0m\u001b[0;34m.\u001b[0m\u001b[0mravel\u001b[0m\u001b[0;34m(\u001b[0m\u001b[0;34m)\u001b[0m\u001b[0;34m,\u001b[0m \u001b[0myy\u001b[0m\u001b[0;34m.\u001b[0m\u001b[0mravel\u001b[0m\u001b[0;34m(\u001b[0m\u001b[0;34m)\u001b[0m\u001b[0;34m]\u001b[0m\u001b[0;34m\u001b[0m\u001b[0;34m\u001b[0m\u001b[0m\n\u001b[1;32m     13\u001b[0m     \u001b[0mzz\u001b[0m \u001b[0;34m=\u001b[0m \u001b[0mnet\u001b[0m\u001b[0;34m.\u001b[0m\u001b[0mpredict\u001b[0m\u001b[0;34m(\u001b[0m\u001b[0mdata\u001b[0m\u001b[0;34m)\u001b[0m\u001b[0;34m\u001b[0m\u001b[0;34m\u001b[0m\u001b[0m\n\u001b[0;32m---> 14\u001b[0;31m     \u001b[0mzz\u001b[0m \u001b[0;34m=\u001b[0m \u001b[0mzz\u001b[0m\u001b[0;34m.\u001b[0m\u001b[0mreshape\u001b[0m\u001b[0;34m(\u001b[0m\u001b[0mxx\u001b[0m\u001b[0;34m.\u001b[0m\u001b[0mshape\u001b[0m\u001b[0;34m)\u001b[0m\u001b[0;34m\u001b[0m\u001b[0;34m\u001b[0m\u001b[0m\n\u001b[0m\u001b[1;32m     15\u001b[0m     plt.contourf(xx,yy,zz, alpha=0.8, \n\u001b[1;32m     16\u001b[0m                  cmap=plt.cm.RdBu)\n",
            "\u001b[0;31mValueError\u001b[0m: cannot reshape array of size 200000 into shape (100,100)"
          ]
        },
        {
          "output_type": "display_data",
          "data": {
            "text/plain": [
              "<Figure size 640x480 with 1 Axes>"
            ],
            "image/png": "[encoded data removed]"
          },
          "metadata": {}
        }
      ]
    },
    {
      "cell_type": "markdown",
      "source": [
        "Paso 7. Repite el código anterior pero agrega el entrenamiento"
      ],
      "metadata": {
        "id": "06rlKx86UNKH"
      }
    },
    {
      "cell_type": "code",
      "source": [
        "net.fit(X, Y)\n",
        "print(net.predict(X))\n",
        "MLP_binary_classification_2d(X,Y,net)"
      ],
      "metadata": {
        "id": "nXm8x4NVUSxw",
        "outputId": "62cb315d-075d-4608-f6d9-f5ad4df37675",
        "colab": {
          "base_uri": "https://localhost:8080/",
          "height": 1000
        }
      },
      "execution_count": 51,
      "outputs": [
        {
          "output_type": "stream",
          "name": "stdout",
          "text": [
            "[[0.23160584 0.23160584 0.94684171 0.04583555]\n",
            " [0.61543615 0.61543615 0.97217201 0.03987375]\n",
            " [0.58891641 0.58891641 0.9458201  0.08014906]\n",
            " [0.60763235 0.60763235 0.94372336 0.03647772]\n",
            " [0.25133199 0.25133199 0.94863733 0.06134066]\n",
            " [0.48008172 0.48008172 0.94153408 0.06380922]\n",
            " [0.51659999 0.51659999 0.95997699 0.07187685]\n",
            " [0.48882081 0.48882081 0.95961288 0.05561673]\n",
            " [0.63360649 0.63360649 0.95830053 0.06054151]\n",
            " [0.61821352 0.61821352 0.95922078 0.03715282]\n",
            " [0.4081704  0.4081704  0.94467004 0.05725071]\n",
            " [0.47250561 0.47250561 0.97358912 0.05274006]\n",
            " [0.6504207  0.6504207  0.94498621 0.04369633]\n",
            " [0.62862286 0.62862286 0.97307158 0.0569934 ]\n",
            " [0.66507249 0.66507249 0.93580582 0.05171486]\n",
            " [0.41356975 0.41356975 0.974378   0.05253058]\n",
            " [0.2855676  0.2855676  0.96631679 0.07849571]\n",
            " [0.55113149 0.55113149 0.95330844 0.05192946]\n",
            " [0.39149587 0.39149587 0.95004696 0.05423896]\n",
            " [0.34344019 0.34344019 0.95021175 0.06349964]]\n"
          ]
        },
        {
          "output_type": "error",
          "ename": "ValueError",
          "evalue": "cannot reshape array of size 200000 into shape (100,100)",
          "traceback": [
            "\u001b[0;31m---------------------------------------------------------------------------\u001b[0m",
            "\u001b[0;31mValueError\u001b[0m                                Traceback (most recent call last)",
            "\u001b[0;32m<ipython-input-51-135465b58c66>\u001b[0m in \u001b[0;36m<cell line: 3>\u001b[0;34m()\u001b[0m\n\u001b[1;32m      1\u001b[0m \u001b[0mnet\u001b[0m\u001b[0;34m.\u001b[0m\u001b[0mfit\u001b[0m\u001b[0;34m(\u001b[0m\u001b[0mX\u001b[0m\u001b[0;34m,\u001b[0m \u001b[0mY\u001b[0m\u001b[0;34m)\u001b[0m\u001b[0;34m\u001b[0m\u001b[0;34m\u001b[0m\u001b[0m\n\u001b[1;32m      2\u001b[0m \u001b[0mprint\u001b[0m\u001b[0;34m(\u001b[0m\u001b[0mnet\u001b[0m\u001b[0;34m.\u001b[0m\u001b[0mpredict\u001b[0m\u001b[0;34m(\u001b[0m\u001b[0mX\u001b[0m\u001b[0;34m)\u001b[0m\u001b[0;34m)\u001b[0m\u001b[0;34m\u001b[0m\u001b[0;34m\u001b[0m\u001b[0m\n\u001b[0;32m----> 3\u001b[0;31m \u001b[0mMLP_binary_classification_2d\u001b[0m\u001b[0;34m(\u001b[0m\u001b[0mX\u001b[0m\u001b[0;34m,\u001b[0m\u001b[0mY\u001b[0m\u001b[0;34m,\u001b[0m\u001b[0mnet\u001b[0m\u001b[0;34m)\u001b[0m\u001b[0;34m\u001b[0m\u001b[0;34m\u001b[0m\u001b[0m\n\u001b[0m",
            "\u001b[0;32m<ipython-input-48-1a0d741e4005>\u001b[0m in \u001b[0;36mMLP_binary_classification_2d\u001b[0;34m(X, Y, net)\u001b[0m\n\u001b[1;32m     12\u001b[0m     \u001b[0mdata\u001b[0m \u001b[0;34m=\u001b[0m \u001b[0;34m[\u001b[0m\u001b[0mxx\u001b[0m\u001b[0;34m.\u001b[0m\u001b[0mravel\u001b[0m\u001b[0;34m(\u001b[0m\u001b[0;34m)\u001b[0m\u001b[0;34m,\u001b[0m \u001b[0myy\u001b[0m\u001b[0;34m.\u001b[0m\u001b[0mravel\u001b[0m\u001b[0;34m(\u001b[0m\u001b[0;34m)\u001b[0m\u001b[0;34m]\u001b[0m\u001b[0;34m\u001b[0m\u001b[0;34m\u001b[0m\u001b[0m\n\u001b[1;32m     13\u001b[0m     \u001b[0mzz\u001b[0m \u001b[0;34m=\u001b[0m \u001b[0mnet\u001b[0m\u001b[0;34m.\u001b[0m\u001b[0mpredict\u001b[0m\u001b[0;34m(\u001b[0m\u001b[0mdata\u001b[0m\u001b[0;34m)\u001b[0m\u001b[0;34m\u001b[0m\u001b[0;34m\u001b[0m\u001b[0m\n\u001b[0;32m---> 14\u001b[0;31m     \u001b[0mzz\u001b[0m \u001b[0;34m=\u001b[0m \u001b[0mzz\u001b[0m\u001b[0;34m.\u001b[0m\u001b[0mreshape\u001b[0m\u001b[0;34m(\u001b[0m\u001b[0mxx\u001b[0m\u001b[0;34m.\u001b[0m\u001b[0mshape\u001b[0m\u001b[0;34m)\u001b[0m\u001b[0;34m\u001b[0m\u001b[0;34m\u001b[0m\u001b[0m\n\u001b[0m\u001b[1;32m     15\u001b[0m     plt.contourf(xx,yy,zz, alpha=0.8, \n\u001b[1;32m     16\u001b[0m                  cmap=plt.cm.RdBu)\n",
            "\u001b[0;31mValueError\u001b[0m: cannot reshape array of size 200000 into shape (100,100)"
          ]
        },
        {
          "output_type": "display_data",
          "data": {
            "text/plain": [
              "<Figure size 640x480 with 1 Axes>"
            ],
            "image/png": "[encoded data removed]"
          },
          "metadata": {}
        }
      ]
    },
    {
      "cell_type": "markdown",
      "source": [
        "Paso 8. Crea una red neuronal, y entrenala para el dataset \"blobs.csv\", Dibuja tus resultados al igual que el problema XOR"
      ],
      "metadata": {
        "id": "PnnAlb5iUuaj"
      }
    },
    {
      "cell_type": "code",
      "source": [],
      "metadata": {
        "id": "2wAjpsgcVDDp"
      },
      "execution_count": null,
      "outputs": []
    },
    {
      "cell_type": "markdown",
      "source": [
        "Paso 9. Crea una red neuronal, y entrenala para el dataset \"moons.csv\", Dibuja tus resultados al igual que el problema XOR"
      ],
      "metadata": {
        "id": "3djoHn1lU8zj"
      }
    },
    {
      "cell_type": "code",
      "source": [],
      "metadata": {
        "id": "Vl5rX41MV7Hn"
      },
      "execution_count": null,
      "outputs": []
    },
    {
      "cell_type": "markdown",
      "source": [
        "Paso 10. Crea una red neuronal, y entrenala para el dataset \"circles.csv\", Dibuja tus resultados al igual que el problema XOR"
      ],
      "metadata": {
        "id": "4puGsdG4VANM"
      }
    },
    {
      "cell_type": "code",
      "source": [],
      "metadata": {
        "id": "VmHiP9y4V_mC"
      },
      "execution_count": null,
      "outputs": []
    },
    {
      "cell_type": "markdown",
      "source": [
        "Paso 11. Puedes usar bibliotecas como sklearn para usar esta red neuronal ([referencia](https://scikit-learn.org/stable/modules/generated/sklearn.neural_network.MLPClassifier.html)). En el siguiente código usa cualquiera de los dataset anteriores para entrenar un clasificador (puedes usar un regresor importando sklearn.neural_network.MLPRegressor)"
      ],
      "metadata": {
        "id": "MPHyxtQTWosh"
      }
    },
    {
      "cell_type": "code",
      "source": [
        "from sklearn.neural_network import MLPClassifier\n",
        "\n",
        "# Lee aqui uno de los archivos csv anteriores y selecciona las variables\n",
        "\n",
        "\n",
        "model = MLPClassifier(hidden_layer_sizes=(100,), max_iter=1000)\n",
        "model.fit(x, y)\n",
        "print('Desempeño: ', model.score(x, y))"
      ],
      "metadata": {
        "id": "Jr99FnjQW3G0"
      },
      "execution_count": null,
      "outputs": []
    }
  ]
}