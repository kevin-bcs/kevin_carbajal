{
  "nbformat": 4,
  "nbformat_minor": 0,
  "metadata": {
    "colab": {
      "provenance": [],
      "include_colab_link": true
    },
    "kernelspec": {
      "name": "python3",
      "display_name": "Python 3"
    },
    "language_info": {
      "name": "python"
    }
  },
  "cells": [
    {
      "cell_type": "markdown",
      "metadata": {
        "id": "view-in-github",
        "colab_type": "text"
      },
      "source": [
        "<a href=\"https://colab.research.google.com/github/kevin-bcs/kevin_carbajal/blob/main/L04_Red_Neuronal_Densa.ipynb\" target=\"_parent\"><img src=\"https://colab.research.google.com/assets/colab-badge.svg\" alt=\"Open In Colab\"/></a>"
      ]
    },
    {
      "cell_type": "markdown",
      "source": [
        "# Red Neuronal Densa (Perceptrón Multicapa MLP)\n",
        "## Dr. Carlos Villaseñor"
      ],
      "metadata": {
        "id": "OA2bDa4ZR5qJ"
      }
    },
    {
      "cell_type": "markdown",
      "source": [
        "Paso 1. Correr paqueterias"
      ],
      "metadata": {
        "id": "pXflGAH6SC_C"
      }
    },
    {
      "cell_type": "code",
      "source": [
        "import numpy as np\n",
        "import matplotlib.pyplot as plt\n",
        "import pandas as pd"
      ],
      "metadata": {
        "id": "ckWvgWOJRp_-"
      },
      "execution_count": 58,
      "outputs": []
    },
    {
      "cell_type": "markdown",
      "source": [
        "Paso 2. Corre el siguiente bloque con diferentes funciones de activación"
      ],
      "metadata": {
        "id": "4K2el12ASGFa"
      }
    },
    {
      "cell_type": "code",
      "execution_count": 59,
      "metadata": {
        "id": "Hp-3YtjMROCJ"
      },
      "outputs": [],
      "source": [
        "# Funciones de activación\n",
        "def linear(z, derivative=False):\n",
        "    a = z\n",
        "    if derivative:\n",
        "        da = 1\n",
        "        return a, da\n",
        "    return a\n",
        "\n",
        "\n",
        "def sigmoid(z, derivative=False):\n",
        "    a = 1/(1+np.exp(-z))\n",
        "    if derivative:\n",
        "        da = a * (1 - a)\n",
        "        return a, da\n",
        "    return a\n",
        "\n",
        "\n",
        "def tanh(z, derivative=False):\n",
        "    a = np.tanh(z)\n",
        "    if derivative:\n",
        "        da = (1 - a) * (1 + a)\n",
        "        return a, da\n",
        "    return a\n",
        "\n",
        "\n",
        "def relu(z, derivative=False):\n",
        "    a = z * (z >= 0)\n",
        "    if derivative:\n",
        "        da = np.array(z >= 0, dtype=float)\n",
        "        return a, da\n",
        "    return a"
      ]
    },
    {
      "cell_type": "markdown",
      "source": [
        "Paso 3. Completa la siguiente clase para programar la red densa"
      ],
      "metadata": {
        "id": "SsgqxhDxSoJl"
      }
    },
    {
      "cell_type": "code",
      "source": [
        "class MLP:\n",
        "\n",
        "  def __init__(self, layers_dims,\n",
        "               hidden_activation=relu,\n",
        "               output_activation=sigmoid,\n",
        "               learning_rate=0.1):\n",
        "\n",
        "      # Instance Attributes\n",
        "    self.L = len(layers_dims) - 1\n",
        "    self.w = [None] * (self.L + 1)\n",
        "    self.b = [None] * (self.L + 1)\n",
        "    self.f = [None] * (self.L + 1)\n",
        "    self.layers = layers_dims\n",
        "    self.eta = learning_rate\n",
        "\n",
        "    # Initialize weights\n",
        "    for l in range(1, self.L + 1):\n",
        "      self.w[l] = -1 +2 * np.random.rand(layers_dims[l], layers_dims[l-1])\n",
        "      self.b[l]= -1 +2 * np.random.rand(layers_dims[l],1)\n",
        "      if l == self.L:\n",
        "        self.f[l] = output_activation\n",
        "      else:\n",
        "        self.f[l] = hidden_activation\n",
        "\n",
        "  def predict(self, X):\n",
        "    A = X.copy()\n",
        "    for l in range(1, self.L + 1):\n",
        "      Z = self.w[l] @ A + self.b[l]\n",
        "      A = self.f[l](Z)\n",
        "    return A\n",
        "\n",
        "  def fit(self, X, Y, epochs=500):\n",
        "\n",
        "    # Number of samples\n",
        "    p = X.shape[1]\n",
        "\n",
        "    #Gradient Descent\n",
        "    for _ in range(epochs):\n",
        "\n",
        "      # Initialize activations and their derivatives\n",
        "      A = [None] * (self.L + 1)\n",
        "      dA = [None] * (self.L + 1)\n",
        "      lg = [None] * (self.L + 1)\n",
        "\n",
        "      # Propagation\n",
        "      A[0] = X.copy()\n",
        "      for l in range (1, self.L + 1):\n",
        "        Z = self.w[l] @ A[l-1] + self.b[l]\n",
        "        A[l], dA[l] = self.f[l](Z, derivative=True)\n",
        "\n",
        "\n",
        "      # Backpropagation\n",
        "      for l in range(self.L, 0, -1):\n",
        "        if l == self.L:\n",
        "          lg[l] = (Y - A[l]) * dA[l]\n",
        "        else:\n",
        "          lg[l] = (self.w[l+1].T @ lg[l+1]) * dA[l]\n",
        "\n",
        "      # Update parameters\n",
        "      for l in range (1, self.L + 1):\n",
        "        self.w[l] += (self.eta/p) * (lg[l] @ A[l-1].T)\n",
        "        self.b[l] += (self.eta/p) * np.sum(lg[l])\n"
      ],
      "metadata": {
        "id": "ElBvQ2NeRuKF"
      },
      "execution_count": 101,
      "outputs": []
    },
    {
      "cell_type": "markdown",
      "source": [
        "Paso 4. Ejecuta la siguiente linea que te ayudará a dibujar las predicciones de la red"
      ],
      "metadata": {
        "id": "ht6fQXUDTVz8"
      }
    },
    {
      "cell_type": "code",
      "source": [
        "def MLP_binary_classification_2d(X,Y,net):\n",
        "    plt.figure()\n",
        "    for i in range(X.shape[1]):\n",
        "        if Y[0,i]==0:\n",
        "            plt.plot(X[0,i], X[1,i], '.r')\n",
        "        else:\n",
        "            plt.plot(X[0,i], X[1,i], '.b')\n",
        "    xmin, ymin=np.min(X[0,:])-0.5, np.min(X[1,:])-0.5\n",
        "    xmax, ymax=np.max(X[0,:])+0.5, np.max(X[1,:])+0.5\n",
        "    xx, yy = np.meshgrid(np.linspace(xmin,xmax,100),\n",
        "                         np.linspace(ymin,ymax,100))\n",
        "    data = [xx.ravel(), yy.ravel()]\n",
        "    zz = net.predict(data)\n",
        "    zz = zz.reshape(xx.shape)\n",
        "    plt.contourf(xx,yy,zz, alpha=0.8,\n",
        "                 cmap=plt.cm.RdBu)\n",
        "    plt.xlim([xmin,xmax])\n",
        "    plt.ylim([ymin,ymax])\n",
        "    plt.grid()\n",
        "    plt.show()"
      ],
      "metadata": {
        "id": "4xhmh7wOTW2e"
      },
      "execution_count": 102,
      "outputs": []
    },
    {
      "cell_type": "markdown",
      "source": [
        "Paso 5. Crea los datos para de la compuerta XOR"
      ],
      "metadata": {
        "id": "QTreo8qLToWm"
      }
    },
    {
      "cell_type": "code",
      "source": [
        "X = np.array([[0, 0, 1, 1],\n",
        "              [0, 1, 0, 1]])\n",
        "Y = np.array([[0, 1, 1, 0]])"
      ],
      "metadata": {
        "id": "cYgaMiwUT1yj"
      },
      "execution_count": 103,
      "outputs": []
    },
    {
      "cell_type": "markdown",
      "source": [
        "Paso 6. Corre el siguiente código para ver la predicción de la red antes de entrenar"
      ],
      "metadata": {
        "id": "ZhpcLRgZT7EN"
      }
    },
    {
      "cell_type": "code",
      "source": [
        "net = MLP((2,100,1), learning_rate=0.2)\n",
        "print(net.predict(X))\n",
        "MLP_binary_classification_2d(X,Y,net)"
      ],
      "metadata": {
        "id": "DjMwzFvZUAik",
        "colab": {
          "base_uri": "https://localhost:8080/",
          "height": 453
        },
        "outputId": "1af261aa-2507-4b19-dda2-0f6ddc380753"
      },
      "execution_count": 104,
      "outputs": [
        {
          "output_type": "stream",
          "name": "stdout",
          "text": [
            "[[0.11517108 0.13220475 0.24360977 0.38152955]]\n"
          ]
        },
        {
          "output_type": "display_data",
          "data": {
            "text/plain": [
              "<Figure size 640x480 with 1 Axes>"
            ],
            "image/png": "[encoded data removed]"
          },
          "metadata": {}
        }
      ]
    },
    {
      "cell_type": "markdown",
      "source": [
        "Paso 7. Repite el código anterior pero agrega el entrenamiento"
      ],
      "metadata": {
        "id": "06rlKx86UNKH"
      }
    },
    {
      "cell_type": "code",
      "source": [
        "net.fit(X, Y)\n",
        "print(net.predict(X))\n",
        "MLP_binary_classification_2d(X,Y,net)"
      ],
      "metadata": {
        "id": "nXm8x4NVUSxw",
        "colab": {
          "base_uri": "https://localhost:8080/",
          "height": 453
        },
        "outputId": "7fdb2fc5-4ce3-4768-fd3b-4124a330b496"
      },
      "execution_count": 105,
      "outputs": [
        {
          "output_type": "stream",
          "name": "stdout",
          "text": [
            "[[0.08535673 0.9294781  0.92308228 0.07091264]]\n"
          ]
        },
        {
          "output_type": "display_data",
          "data": {
            "text/plain": [
              "<Figure size 640x480 with 1 Axes>"
            ],
            "image/png": "[encoded data removed]"
          },
          "metadata": {}
        }
      ]
    },
    {
      "cell_type": "markdown",
      "source": [
        "Paso 8. Crea una red neuronal, y entrenala para el dataset \"blobs.csv\", Dibuja tus resultados al igual que el problema XOR"
      ],
      "metadata": {
        "id": "PnnAlb5iUuaj"
      }
    },
    {
      "cell_type": "code",
      "source": [],
      "metadata": {
        "id": "2wAjpsgcVDDp"
      },
      "execution_count": null,
      "outputs": []
    },
    {
      "cell_type": "markdown",
      "source": [
        "Paso 9. Crea una red neuronal, y entrenala para el dataset \"moons.csv\", Dibuja tus resultados al igual que el problema XOR"
      ],
      "metadata": {
        "id": "3djoHn1lU8zj"
      }
    },
    {
      "cell_type": "code",
      "source": [],
      "metadata": {
        "id": "Vl5rX41MV7Hn"
      },
      "execution_count": null,
      "outputs": []
    },
    {
      "cell_type": "markdown",
      "source": [
        "Paso 10. Crea una red neuronal, y entrenala para el dataset \"circles.csv\", Dibuja tus resultados al igual que el problema XOR"
      ],
      "metadata": {
        "id": "4puGsdG4VANM"
      }
    },
    {
      "cell_type": "code",
      "source": [],
      "metadata": {
        "id": "VmHiP9y4V_mC"
      },
      "execution_count": null,
      "outputs": []
    },
    {
      "cell_type": "markdown",
      "source": [
        "Paso 11. Puedes usar bibliotecas como sklearn para usar esta red neuronal ([referencia](https://scikit-learn.org/stable/modules/generated/sklearn.neural_network.MLPClassifier.html)). En el siguiente código usa cualquiera de los dataset anteriores para entrenar un clasificador (puedes usar un regresor importando sklearn.neural_network.MLPRegressor)"
      ],
      "metadata": {
        "id": "MPHyxtQTWosh"
      }
    },
    {
      "cell_type": "code",
      "source": [
        "from sklearn.neural_network import MLPClassifier\n",
        "\n",
        "# Lee aqui uno de los archivos csv anteriores y selecciona las variables\n",
        "\n",
        "\n",
        "model = MLPClassifier(hidden_layer_sizes=(100,), max_iter=1000)\n",
        "model.fit(x, y)\n",
        "print('Desempeño: ', model.score(x, y))"
      ],
      "metadata": {
        "id": "Jr99FnjQW3G0"
      },
      "execution_count": null,
      "outputs": []
    }
  ]
}