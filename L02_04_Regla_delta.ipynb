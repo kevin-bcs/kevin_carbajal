{
  "nbformat": 4,
  "nbformat_minor": 0,
  "metadata": {
    "colab": {
      "provenance": [],
      "include_colab_link": true
    },
    "kernelspec": {
      "name": "python3",
      "display_name": "Python 3"
    },
    "language_info": {
      "name": "python"
    }
  },
  "cells": [
    {
      "cell_type": "markdown",
      "metadata": {
        "id": "view-in-github",
        "colab_type": "text"
      },
      "source": [
        "<a href=\"https://colab.research.google.com/github/kevin-bcs/kevin_carbajal/blob/main/L02_04_Regla_delta.ipynb\" target=\"_parent\"><img src=\"https://colab.research.google.com/assets/colab-badge.svg\" alt=\"Open In Colab\"/></a>"
      ]
    },
    {
      "cell_type": "markdown",
      "source": [
        "# Regla Delta\n",
        "## Dr. Carlos Villaseñor"
      ],
      "metadata": {
        "id": "NwqTUWuxYMQg"
      }
    },
    {
      "cell_type": "markdown",
      "source": [
        "Paso 1. Corre la siguiente casilla para importar la paquetería necesaria."
      ],
      "metadata": {
        "id": "AhoJLbMxYVty"
      }
    },
    {
      "cell_type": "code",
      "source": [
        "import numpy as np\n",
        "import matplotlib.pyplot as plt"
      ],
      "metadata": {
        "id": "wKjED1KUYfRe"
      },
      "execution_count": 1,
      "outputs": []
    },
    {
      "cell_type": "markdown",
      "source": [
        "Paso 2. Corre las siguientes funciones"
      ],
      "metadata": {
        "id": "xxu_1leMfD71"
      }
    },
    {
      "cell_type": "code",
      "source": [
        "def linear(z, derivative=False):\n",
        "    a = z\n",
        "    if derivative:\n",
        "        da = np.ones(z.shape)\n",
        "        return a, da\n",
        "    return a\n",
        "\n",
        "\n",
        "def logistic(z, derivative=False):\n",
        "    a = 1/(1 + np.exp(-z))\n",
        "    if derivative:\n",
        "        da = a * (1 - a)\n",
        "        return a, da\n",
        "    return a\n",
        "\n",
        "\n",
        "def tanh(z, derivative=False):\n",
        "    a = np.tanh(z)\n",
        "    if derivative:\n",
        "        da = (1 - a) * (1 + a)\n",
        "        return a, da\n",
        "    return a\n",
        "\n",
        "\n",
        "def relu(z, derivative=False):\n",
        "    a = z * (z >= 0)\n",
        "    if derivative:\n",
        "        da = np.array(z >= 0, dtype=float)\n",
        "        return a, da\n",
        "    return a"
      ],
      "metadata": {
        "id": "ssyYz-nLfHW2"
      },
      "execution_count": 2,
      "outputs": []
    },
    {
      "cell_type": "markdown",
      "source": [
        "Paso 3. Revisa el siguiente código de la regla delta"
      ],
      "metadata": {
        "id": "eLLpPjoKYh1Q"
      }
    },
    {
      "cell_type": "code",
      "execution_count": 7,
      "metadata": {
        "id": "zShXwHkCOmEm"
      },
      "outputs": [],
      "source": [
        "class neuron:\n",
        "\n",
        "    def __init__(self, n_inputs,\n",
        "                 activation_funtion=linear, learning_rate=0.1):\n",
        "        self.w = - 1 + 2 * np.random.rand(n_inputs)\n",
        "        self.b = - 1 + 2 * np.random.rand()\n",
        "        self.eta = learning_rate\n",
        "        self.f = activation_funtion\n",
        "\n",
        "    def predict(self, X):\n",
        "        Z = np.dot(self.w, X) + self.b\n",
        "\n",
        "        return self.f(Z)\n",
        "\n",
        "    def train(self, X, Y, L2=0, epochs=1000):\n",
        "\n",
        "        p = X.shape[1]\n",
        "        for _ in range(epochs):\n",
        "\n",
        "            # Propagation -----------------------------------------------------\n",
        "            Z = np.dot(self.w, X) + self.b\n",
        "            Yest, dY = self.f(Z, derivative=True)\n",
        "\n",
        "            # Training --------------------------------------------------------\n",
        "            def train(self, X, Y, epochs=50):\n",
        "              _, p = X.shape\n",
        "              for _ in range(epochs):\n",
        "                Y_est = self.predict(X)\n",
        "              # Completa las siguientes líneas de código\n",
        "              self.w += (self.eta/p) * ((Y-Y_est) @X.T).ravel()\n",
        "              self.b += (self.eta/p) * np.sum(Y - Y_est)\n",
        "\n",
        "            # Calculate local gradient\n",
        "            lg = (Y - Yest) * dY\n",
        "\n",
        "            # Update parameters\n",
        "            self.w +=  (self.eta/p) * np.dot(lg, X.T).ravel()\n",
        "            self.b += (self.eta/p) * np.sum(lg)"
      ]
    },
    {
      "cell_type": "markdown",
      "source": [
        "Paso 3. Corre este primer ejemplo"
      ],
      "metadata": {
        "id": "CRR-c6cTZbgs"
      }
    },
    {
      "cell_type": "code",
      "source": [
        "X = np.array([[0, 0, 1, 1],\n",
        "              [0, 1, 0, 1]])\n",
        "Y = np.array([[0, 0, 0, 1]])\n",
        "model = neuron(2, logistic, 1)\n",
        "print(model.predict(X))\n",
        "model.train(X,Y, epochs=1000)\n",
        "print(model.predict(X))\n",
        "\n",
        "p = X.shape[1]\n",
        "for i in range(p):\n",
        "    if Y[0,i] == 0:\n",
        "        plt.plot(X[0,i], X[1,i], 'or')\n",
        "    else:\n",
        "        plt.plot(X[0,i], X[1,i], 'ob')\n",
        "\n",
        "w1, w2, b = model.w[0], model.w[1], model.b\n",
        "plt.plot([-2, 2],[(1/w2)*(-w1*(-2)-b),(1/w2)*(-w1*2-b)],'--k')\n",
        "plt.xlim([-1,2])\n",
        "plt.ylim([-1,2])\n",
        "plt.xlabel(r'$x_1$')\n",
        "plt.ylabel(r'$x_2$')"
      ],
      "metadata": {
        "id": "pqWHWjpQZbL5",
        "outputId": "afa1935f-523f-45a4-d86c-4f6db0e366c0",
        "colab": {
          "base_uri": "https://localhost:8080/",
          "height": 507
        }
      },
      "execution_count": 8,
      "outputs": [
        {
          "output_type": "stream",
          "name": "stdout",
          "text": [
            "[0.43338666 0.34729283 0.24992919 0.18817637]\n",
            "[0.00323837 0.12129583 0.12129468 0.85433301]\n"
          ]
        },
        {
          "output_type": "execute_result",
          "data": {
            "text/plain": [
              "Text(0, 0.5, '$x_2$')"
            ]
          },
          "metadata": {},
          "execution_count": 8
        },
        {
          "output_type": "display_data",
          "data": {
            "text/plain": [
              "<Figure size 640x480 with 1 Axes>"
            ],
            "image/png": "[encoded data removed]"
          },
          "metadata": {}
        }
      ]
    },
    {
      "cell_type": "markdown",
      "source": [
        "Paso 4. Corre este segundo ejemplo"
      ],
      "metadata": {
        "id": "Rvp9apWZfo19"
      }
    },
    {
      "cell_type": "code",
      "source": [
        "p = 100\n",
        "x = -1 + 2 * np.random.rand(p).reshape(1,-1)\n",
        "y = -18 * x + 6 + 2.5 * np.random.randn(p)\n",
        "plt.plot(x,y,'.b')\n",
        "model = neuron(1, linear, 0.1)\n",
        "model.train(x, y, epochs=100)\n",
        "xn = np.array([[-1, 1]])\n",
        "plt.plot(xn.ravel() ,model.predict(xn),'--r')"
      ],
      "metadata": {
        "id": "uU8EqfmVflvA",
        "outputId": "2d70bcab-02fc-4fbd-947b-6f7abb91bbd0",
        "colab": {
          "base_uri": "https://localhost:8080/",
          "height": 447
        }
      },
      "execution_count": 9,
      "outputs": [
        {
          "output_type": "execute_result",
          "data": {
            "text/plain": [
              "[<matplotlib.lines.Line2D at 0x7b5991c9eda0>]"
            ]
          },
          "metadata": {},
          "execution_count": 9
        },
        {
          "output_type": "display_data",
          "data": {
            "text/plain": [
              "<Figure size 640x480 with 1 Axes>"
            ],
            "image/png": "[encoded data removed]"
          },
          "metadata": {}
        }
      ]
    }
  ]
}