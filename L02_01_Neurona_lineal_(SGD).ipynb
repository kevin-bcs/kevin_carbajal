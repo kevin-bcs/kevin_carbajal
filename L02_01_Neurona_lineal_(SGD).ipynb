{
  "nbformat": 4,
  "nbformat_minor": 0,
  "metadata": {
    "colab": {
      "provenance": [],
      "include_colab_link": true
    },
    "kernelspec": {
      "name": "python3",
      "display_name": "Python 3"
    },
    "language_info": {
      "name": "python"
    }
  },
  "cells": [
    {
      "cell_type": "markdown",
      "metadata": {
        "id": "view-in-github",
        "colab_type": "text"
      },
      "source": [
        "<a href=\"https://colab.research.google.com/github/kevin-bcs/kevin_carbajal/blob/main/L02_01_Neurona_lineal_(SGD).ipynb\" target=\"_parent\"><img src=\"https://colab.research.google.com/assets/colab-badge.svg\" alt=\"Open In Colab\"/></a>"
      ]
    },
    {
      "cell_type": "markdown",
      "source": [
        "# Neurona Lineal\n",
        "## Dr. Carlos Villaseñor"
      ],
      "metadata": {
        "id": "NwqTUWuxYMQg"
      }
    },
    {
      "cell_type": "markdown",
      "source": [
        "Paso 1. Corre la siguiente casilla para importar la paquetería necesaria."
      ],
      "metadata": {
        "id": "AhoJLbMxYVty"
      }
    },
    {
      "cell_type": "code",
      "source": [
        "import numpy as np\n",
        "import matplotlib.pyplot as plt"
      ],
      "metadata": {
        "id": "wKjED1KUYfRe"
      },
      "execution_count": 1,
      "outputs": []
    },
    {
      "cell_type": "markdown",
      "source": [
        "Paso 2. Revisa el siguiente código de la neurona lineal y completa las líneas que faltan"
      ],
      "metadata": {
        "id": "eLLpPjoKYh1Q"
      }
    },
    {
      "cell_type": "code",
      "execution_count": 2,
      "metadata": {
        "id": "zShXwHkCOmEm"
      },
      "outputs": [],
      "source": [
        "class Linear_Neuron:\n",
        "\n",
        "  def __init__(self, n_inputs, learning_rate=0.1):\n",
        "    self.w = - 1 + 2 * np.random.rand(n_inputs)\n",
        "    self.b = - 1 + 2 * np.random.rand()\n",
        "    self.eta = learning_rate\n",
        "\n",
        "  def predict(self, X):\n",
        "    Y_est = np.dot(self.w, X) + self.b\n",
        "    return Y_est\n",
        "\n",
        "  def train(self, X, Y, epochs=50):\n",
        "    _, p = X.shape\n",
        "    for _ in range(epochs):\n",
        "        for i in range(p):\n",
        "            y_est = self.predict(X[:,i].reshape(-1,1))\n",
        "            # Completa las siguientes dos lineas\n",
        "            self.w += self.eta * (Y[:,i]-y_est)* X[:,i]\n",
        "            self.b += self.eta * (Y[:,i]-y_est)"
      ]
    },
    {
      "cell_type": "markdown",
      "source": [
        "Paso 3. Corre el siguiente ejemplo"
      ],
      "metadata": {
        "id": "CRR-c6cTZbgs"
      }
    },
    {
      "cell_type": "code",
      "source": [
        "# Ejemplo\n",
        "p =100\n",
        "x = -1 + 2 * np.random.rand(p).reshape(1,-1)\n",
        "y = -18 * x + 6 + 3 * np.random.randn(p)\n",
        "plt.plot(x,y,'.b')\n",
        "\n",
        "\n",
        "neuron = Linear_Neuron(1, 0.1)\n",
        "neuron.train(x,y, epochs=100 )\n",
        "\n",
        "# Dibujar línea\n",
        "xn = np.array([[-1, 1]])\n",
        "plt.plot(xn.ravel() ,neuron.predict(xn),'--r')\n",
        "plt.show()"
      ],
      "metadata": {
        "id": "pqWHWjpQZbL5",
        "outputId": "48e51200-beec-4bf1-8501-42dbccf24d3d",
        "colab": {
          "base_uri": "https://localhost:8080/",
          "height": 430
        }
      },
      "execution_count": 3,
      "outputs": [
        {
          "output_type": "display_data",
          "data": {
            "text/plain": [
              "<Figure size 640x480 with 1 Axes>"
            ],
            "image/png": "[encoded data removed]"
          },
          "metadata": {}
        }
      ]
    }
  ]
}