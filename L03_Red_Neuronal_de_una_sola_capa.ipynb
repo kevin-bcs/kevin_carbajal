{
  "nbformat": 4,
  "nbformat_minor": 0,
  "metadata": {
    "colab": {
      "provenance": [],
      "include_colab_link": true
    },
    "kernelspec": {
      "name": "python3",
      "display_name": "Python 3"
    },
    "language_info": {
      "name": "python"
    }
  },
  "cells": [
    {
      "cell_type": "markdown",
      "metadata": {
        "id": "view-in-github",
        "colab_type": "text"
      },
      "source": [
        "<a href=\"https://colab.research.google.com/github/kevin-bcs/kevin_carbajal/blob/main/L03_Red_Neuronal_de_una_sola_capa.ipynb\" target=\"_parent\"><img src=\"https://colab.research.google.com/assets/colab-badge.svg\" alt=\"Open In Colab\"/></a>"
      ]
    },
    {
      "cell_type": "markdown",
      "source": [
        "# Red Neuronal de una sola capa\n",
        "## Dr. Carlos Villaseñor"
      ],
      "metadata": {
        "id": "NwqTUWuxYMQg"
      }
    },
    {
      "cell_type": "markdown",
      "source": [
        "Paso 1. Corre la siguiente casilla para importar la paquetería necesaria."
      ],
      "metadata": {
        "id": "AhoJLbMxYVty"
      }
    },
    {
      "cell_type": "code",
      "source": [
        "import numpy as np\n",
        "import matplotlib.pyplot as plt\n",
        "import pandas as pd"
      ],
      "metadata": {
        "id": "wKjED1KUYfRe"
      },
      "execution_count": 74,
      "outputs": []
    },
    {
      "cell_type": "markdown",
      "source": [
        "Paso 2. Corre el siguiente bloque con las funciones de activación programadas en la práctica anterior"
      ],
      "metadata": {
        "id": "eLLpPjoKYh1Q"
      }
    },
    {
      "cell_type": "code",
      "execution_count": 75,
      "metadata": {
        "id": "zShXwHkCOmEm"
      },
      "outputs": [],
      "source": [
        "# La función de activación lineal se usa en problemas de regresión\n",
        "def linear(z, derivative=False):\n",
        "  a = z\n",
        "  if derivative:\n",
        "    da = np.ones(z.shape, dtype=float)\n",
        "    return a, da\n",
        "  return a\n",
        "\n",
        "# La función de activación logística se usa en\n",
        "# problemas de clasificación multi-etiquetas\n",
        "def logistic(z, derivative=False):\n",
        "  a = 1/(1 + np.exp(-z))\n",
        "  if derivative:\n",
        "    da = np.ones(z.shape, dtype=float)\n",
        "    return a, da\n",
        "  return a"
      ]
    },
    {
      "cell_type": "markdown",
      "source": [
        "Paso 3. Programa la función de activación Softmax"
      ],
      "metadata": {
        "id": "CRR-c6cTZbgs"
      }
    },
    {
      "cell_type": "code",
      "source": [
        "# La función de activación Softmax se usa en\n",
        "# problemas de clasificación multiclase con un\n",
        "# solo ganador\n",
        "def softmax(z, derivative=False):\n",
        "  e_z = np.exp(z - np.max(z, axis=0))\n",
        "  a = e_z /np.sum(e_z)\n",
        "  if derivative:\n",
        "    da = np.ones(z.shape, dtype=float)\n",
        "    return a, da\n",
        "  return a"
      ],
      "metadata": {
        "id": "pqWHWjpQZbL5"
      },
      "execution_count": 88,
      "outputs": []
    },
    {
      "cell_type": "code",
      "source": [
        "softmax(np.array([1.2,1,2]))"
      ],
      "metadata": {
        "colab": {
          "base_uri": "https://localhost:8080/"
        },
        "id": "nwx7FKSa7qZ-",
        "outputId": "6f200466-3104-4c35-d5c2-e34945f0321d"
      },
      "execution_count": 87,
      "outputs": [
        {
          "output_type": "execute_result",
          "data": {
            "text/plain": [
              "array([0.24726331, 0.20244208, 0.55029462])"
            ]
          },
          "metadata": {},
          "execution_count": 87
        }
      ]
    },
    {
      "cell_type": "markdown",
      "source": [
        "Paso 4. Programa una clase que represente una red neuronal de una capa"
      ],
      "metadata": {
        "id": "efUcSTGWJz7D"
      }
    },
    {
      "cell_type": "code",
      "source": [
        "class OLN:\n",
        "  \"\"\"One-Layer Network\"\"\"\n",
        "\n",
        "  def __init__(self, n_inputs, n_outputs,\n",
        "               activation_funtion=linear):\n",
        "    self.w = - 1 + 2 * np.random.rand(n_outputs, n_inputs)\n",
        "    self.b = - 1 + 2 * np.random.rand(n_outputs, 1)\n",
        "    self.f = activation_funtion\n",
        "\n",
        "  def predict(self, X):\n",
        "    # Completa esta función\n",
        "    return self.f(self.w @ X + self.b)\n",
        "\n",
        "  def fit(self, X, Y, epochs=1000,  lr=0.1):\n",
        "    #Completa esta función\n",
        "      p = X.shape[1]\n",
        "      for _ in range(epochs):\n",
        "\n",
        "        #PROPAGACION\n",
        "        Y_est, dY = self.f(self.w @ X + self.b, derivative=True)\n",
        "\n",
        "        #GRADIENTE LOCAL\n",
        "        lg = (Y - Y_est) * dY\n",
        "\n",
        "        #ACTUALIZACION DE PARAMETROS\n",
        "        self.w += (lr/p) * (lg @ X.T)\n",
        "        self.b += (lr/p) * np.sum(lg, axis=1).reshape(-1,1)"
      ],
      "metadata": {
        "id": "3-rCQ0KFJzk2"
      },
      "execution_count": 77,
      "outputs": []
    },
    {
      "cell_type": "markdown",
      "source": [
        "# Primer experimento: Clasificación multi-etiqueta"
      ],
      "metadata": {
        "id": "C-KwZaCzNzw1"
      }
    },
    {
      "cell_type": "markdown",
      "source": [
        "Paso 5. Carga el archivo 'DataSet_A03.csv', contiene entradas de dos dimensiones y salidas deseadas de 4 dimensiones."
      ],
      "metadata": {
        "id": "1JoBqh29LE9e"
      }
    },
    {
      "cell_type": "code",
      "source": [
        "df = pd.read_csv('Dataset_A03.csv')"
      ],
      "metadata": {
        "id": "Gl30pkU7L7qO"
      },
      "execution_count": 78,
      "outputs": []
    },
    {
      "cell_type": "markdown",
      "source": [
        "Paso 6.  Crea la matriz X de entrada y la matriz Y de salidas deseadas."
      ],
      "metadata": {
        "id": "Q1qV54ILMQoc"
      }
    },
    {
      "cell_type": "code",
      "source": [
        "# Escribe en el siguiente apartado la matriz X y Y\n",
        "X = np.asanyarray(df[['x1','x2']]).T\n",
        "Y = np.asanyarray(df[['y1','y2','y3','y4']]).T"
      ],
      "metadata": {
        "id": "Y7ylKaagMUEV"
      },
      "execution_count": 79,
      "outputs": []
    },
    {
      "cell_type": "markdown",
      "source": [
        "Paso 7. Corre la siguiente función que te ayudará a dibujar el experimento"
      ],
      "metadata": {
        "id": "rv_qXZoQMmXW"
      }
    },
    {
      "cell_type": "code",
      "source": [
        "def plot_data(X, Y, net):\n",
        "  dot_c = ('red', 'green', 'blue', 'black')\n",
        "  lin_c = ('r-', 'g-', 'b-', 'k-')\n",
        "  for i in range(X.shape[1]):\n",
        "      c = np.argmax(Y[:,i])\n",
        "      plt.scatter(X[0,i], X[1,i], color=dot_c[c], edgecolors='k')\n",
        "\n",
        "  for i in range(4):\n",
        "      w1, w2, b = net.w[i,0], net.w[i,1], net.b[i]\n",
        "      plt.plot([-0.25, 1.25],[(-1/w2)*(w1*(-0.25)+b),(-1/w2)*(w1*(1.25)+b)], lin_c[i])\n",
        "\n",
        "\n",
        "  #plt.axis('equal')\n",
        "  plt.xlim([-0.25, 1.25])\n",
        "  plt.ylim([-0.25, 1.25])"
      ],
      "metadata": {
        "id": "p6L5KbkIMwGd"
      },
      "execution_count": 80,
      "outputs": []
    },
    {
      "cell_type": "markdown",
      "source": [
        "Paso 8. Crea y entrena tu red neuronal con los datos que trabajaste y dibuja el resultado con la función anterior."
      ],
      "metadata": {
        "id": "ImGy6xlsM7pd"
      }
    },
    {
      "cell_type": "code",
      "source": [
        "net = OLN(2, 4, logistic)\n",
        "net.fit(X,Y)\n",
        "plot_data(X, Y, net)"
      ],
      "metadata": {
        "id": "z9VvEe2QNMLc",
        "colab": {
          "base_uri": "https://localhost:8080/",
          "height": 430
        },
        "outputId": "d59eadf9-abc9-483b-fee2-84f33cc717e2"
      },
      "execution_count": 81,
      "outputs": [
        {
          "output_type": "display_data",
          "data": {
            "text/plain": [
              "<Figure size 640x480 with 1 Axes>"
            ],
            "image/png": "[encoded data removed]"
          },
          "metadata": {}
        }
      ]
    },
    {
      "cell_type": "markdown",
      "source": [
        "# Segundo experimento: Clasificación con un solo ganador"
      ],
      "metadata": {
        "id": "qJJqJi5yOJj8"
      }
    },
    {
      "cell_type": "markdown",
      "source": [
        "Paso 9. Corre el siguiente ejemplo para generar un conjunto de datos de Clasificación con un solo ganador"
      ],
      "metadata": {
        "id": "ef6Ssq3wKRoc"
      }
    },
    {
      "cell_type": "code",
      "source": [
        "# Generación de Conjunto de datos para clasificación\n",
        "\n",
        "# Límites\n",
        "minx = -5\n",
        "maxx = 5\n",
        "\n",
        "# Número de clases y puntos por clase\n",
        "classes = 8\n",
        "p_c = 20\n",
        "X = np.zeros((2, classes * p_c))\n",
        "Y = np.zeros((classes, classes * p_c))\n",
        "\n",
        "\n",
        "for i in range(classes):\n",
        "    seed = minx + (maxx - minx) * np.random.rand(2,1)\n",
        "    X[:, i*p_c:(i+1)*p_c] = seed + 0.15 * np.random.randn(2, p_c)\n",
        "    Y[i, i*p_c:(i+1)*p_c] = np.ones((1, p_c))"
      ],
      "metadata": {
        "id": "LfLz49i5KlSE"
      },
      "execution_count": 82,
      "outputs": []
    },
    {
      "cell_type": "markdown",
      "source": [
        "Paso 10. Entrena una red neuronal para aprender el conjunto de datos anterior, guarda en la variable Ypred la predicción de todos los datos."
      ],
      "metadata": {
        "id": "S4P014B9OX8M"
      }
    },
    {
      "cell_type": "code",
      "source": [
        "# Instancia una red neuronal con el numero de entradas, salidas\n",
        "# y función de activación correctas\n",
        "net = OLN(2,8, softmax)\n",
        "\n",
        "# Entrena la red neuronal\n",
        "net.fit(X,Y, epochs=500, lr=0.1)\n",
        "\n",
        "# Guarda las predicciones de la red de todos los datos en X\n",
        "Ypred = net.predict(X)"
      ],
      "metadata": {
        "id": "H5m65xAVOgVu"
      },
      "execution_count": 89,
      "outputs": []
    },
    {
      "cell_type": "markdown",
      "source": [
        "Paso 11. Corre el siguiente código para graficar tus resultados"
      ],
      "metadata": {
        "id": "5vCs-kEHLCos"
      }
    },
    {
      "cell_type": "code",
      "source": [
        "# Colores para dibujar las clases\n",
        "\n",
        "cm\t= ['b','g','r','c','m','y', 'k', 'w']\n",
        "\n",
        "# Gráfico con los datos originales\n",
        "ax1=plt.subplot(1, 2, 1)\n",
        "y_c =np.argmax(Y, axis=0)\n",
        "for i in range(X.shape[1]):\n",
        "    ax1.scatter(X[0,i], X[1,i], c=cm[y_c[i]], edgecolors='k')\n",
        "ax1.axis([-5.5,5.5,-5.5,5.5])\n",
        "ax1.set_title('Problema Original')\n",
        "ax1.grid()\n",
        "\n",
        "# Gráfico de las predicciones de la red\n",
        "ax2=plt.subplot(1, 2, 2)\n",
        "y_c =np.argmax(Ypred, axis=0)\n",
        "for i in range(X.shape[1]):\n",
        "    ax2.scatter(X[0,i], X[1,i], c=cm[y_c[i]], edgecolors='k')\n",
        "ax2.axis([-5.5,5.5,-5.5,5.5])\n",
        "ax2.set_title('Predicción de la red')\n",
        "ax2.grid()\n",
        "\n",
        "plt.show()"
      ],
      "metadata": {
        "id": "9mTvBOIlLCVe",
        "outputId": "0935ba81-7541-41b4-b251-d0a58b19e672",
        "colab": {
          "base_uri": "https://localhost:8080/",
          "height": 452
        }
      },
      "execution_count": 90,
      "outputs": [
        {
          "output_type": "display_data",
          "data": {
            "text/plain": [
              "<Figure size 640x480 with 2 Axes>"
            ],
            "image/png": "[encoded data removed]"
          },
          "metadata": {}
        }
      ]
    }
  ]
}